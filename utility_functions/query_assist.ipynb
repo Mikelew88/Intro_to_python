{
 "cells": [
  {
   "cell_type": "code",
   "execution_count": 2,
   "metadata": {
    "collapsed": false
   },
   "outputs": [
    {
     "data": {
      "text/plain": [
       "'Hello Mike'"
      ]
     },
     "execution_count": 2,
     "metadata": {},
     "output_type": "execute_result"
    }
   ],
   "source": [
    "'Hello %s'%('Mike')"
   ]
  },
  {
   "cell_type": "code",
   "execution_count": 4,
   "metadata": {
    "collapsed": false
   },
   "outputs": [
    {
     "data": {
      "text/plain": [
       "'Hello Mike'"
      ]
     },
     "execution_count": 4,
     "metadata": {},
     "output_type": "execute_result"
    }
   ],
   "source": [
    "'Hello {0}'.format('Mike')"
   ]
  },
  {
   "cell_type": "code",
   "execution_count": 6,
   "metadata": {
    "collapsed": false
   },
   "outputs": [
    {
     "data": {
      "text/plain": [
       "'Hello Mike Lewis'"
      ]
     },
     "execution_count": 6,
     "metadata": {},
     "output_type": "execute_result"
    }
   ],
   "source": [
    "'Hello {0} {1}'.format('Mike', 'Lewis')"
   ]
  },
  {
   "cell_type": "code",
   "execution_count": 12,
   "metadata": {
    "collapsed": false
   },
   "outputs": [
    {
     "name": "stdout",
     "output_type": "stream",
     "text": [
      "Hello Mike Lewis\n",
      "Hello Jon Brenner\n"
     ]
    }
   ],
   "source": [
    "first_names = ['Mike', 'Jon']\n",
    "last_name = ['Lewis', 'Brenner']\n",
    "\n",
    "name_dict = {'Mike' : 'Lewis', 'Jon' : 'Brenner'}\n",
    "\n",
    "for first_name, last_name in zip(first_names, last_name):\n",
    "    print 'Hello {first_name} {last_name}'.format(first_name=first_name, last_name=last_name)\n",
    "# 'Hello {first_name} {last_name}'.format(last_name=last_name, first_name=first_name)"
   ]
  },
  {
   "cell_type": "code",
   "execution_count": 1,
   "metadata": {
    "collapsed": false
   },
   "outputs": [
    {
     "name": "stdout",
     "output_type": "stream",
     "text": [
      "WHEN DATEDIFF(day, receipts.created_at, CURRENT_DATE) < 30 then 1\n",
      "WHEN DATEDIFF(day, receipts.created_at, CURRENT_DATE) < 60 then 2\n",
      "WHEN DATEDIFF(day, receipts.created_at, CURRENT_DATE) < 90 then 3\n",
      "WHEN DATEDIFF(day, receipts.created_at, CURRENT_DATE) < 120 then 4\n",
      "WHEN DATEDIFF(day, receipts.created_at, CURRENT_DATE) < 150 then 5\n",
      "WHEN DATEDIFF(day, receipts.created_at, CURRENT_DATE) < 180 then 6\n",
      "WHEN DATEDIFF(day, receipts.created_at, CURRENT_DATE) < 210 then 7\n",
      "WHEN DATEDIFF(day, receipts.created_at, CURRENT_DATE) < 240 then 8\n",
      "WHEN DATEDIFF(day, receipts.created_at, CURRENT_DATE) < 270 then 9\n",
      "WHEN DATEDIFF(day, receipts.created_at, CURRENT_DATE) < 300 then 10\n",
      "WHEN DATEDIFF(day, receipts.created_at, CURRENT_DATE) < 330 then 11\n",
      "WHEN DATEDIFF(day, receipts.created_at, CURRENT_DATE) < 360 then 12\n",
      "WHEN DATEDIFF(day, receipts.created_at, CURRENT_DATE) < 390 then 13\n",
      "WHEN DATEDIFF(day, receipts.created_at, CURRENT_DATE) < 420 then 14\n",
      "WHEN DATEDIFF(day, receipts.created_at, CURRENT_DATE) < 450 then 15\n",
      "WHEN DATEDIFF(day, receipts.created_at, CURRENT_DATE) < 480 then 16\n",
      "WHEN DATEDIFF(day, receipts.created_at, CURRENT_DATE) < 510 then 17\n",
      "WHEN DATEDIFF(day, receipts.created_at, CURRENT_DATE) < 540 then 18\n",
      "WHEN DATEDIFF(day, receipts.created_at, CURRENT_DATE) < 570 then 19\n",
      "WHEN DATEDIFF(day, receipts.created_at, CURRENT_DATE) < 600 then 20\n",
      "WHEN DATEDIFF(day, receipts.created_at, CURRENT_DATE) < 630 then 21\n",
      "WHEN DATEDIFF(day, receipts.created_at, CURRENT_DATE) < 660 then 22\n",
      "WHEN DATEDIFF(day, receipts.created_at, CURRENT_DATE) < 690 then 23\n",
      "WHEN DATEDIFF(day, receipts.created_at, CURRENT_DATE) < 720 then 24\n",
      "WHEN DATEDIFF(day, receipts.created_at, CURRENT_DATE) < 750 then 25\n"
     ]
    }
   ],
   "source": [
    "for i in range(25):\n",
    "    i = i+1\n",
    "    print(\"WHEN DATEDIFF(day, receipts.created_at, CURRENT_DATE) < {0} then {1}\".format(i*30, i))\n",
    "\n"
   ]
  },
  {
   "cell_type": "code",
   "execution_count": 11,
   "metadata": {
    "collapsed": false
   },
   "outputs": [
    {
     "name": "stdout",
     "output_type": "stream",
     "text": [
      "WHEN DATEDIFF(day, receipts.updated_at, CURRENT_DATE) < 30 then '-30 to 30 days in past'\n",
      "WHEN DATEDIFF(day, receipts.updated_at, CURRENT_DATE) < 60 then '0 to 60 days in past'\n",
      "WHEN DATEDIFF(day, receipts.updated_at, CURRENT_DATE) < 90 then '30 to 90 days in past'\n",
      "WHEN DATEDIFF(day, receipts.updated_at, CURRENT_DATE) < 120 then '60 to 120 days in past'\n",
      "WHEN DATEDIFF(day, receipts.updated_at, CURRENT_DATE) < 150 then '90 to 150 days in past'\n",
      "WHEN DATEDIFF(day, receipts.updated_at, CURRENT_DATE) < 180 then '120 to 180 days in past'\n",
      "WHEN DATEDIFF(day, receipts.updated_at, CURRENT_DATE) < 210 then '150 to 210 days in past'\n",
      "WHEN DATEDIFF(day, receipts.updated_at, CURRENT_DATE) < 240 then '180 to 240 days in past'\n",
      "WHEN DATEDIFF(day, receipts.updated_at, CURRENT_DATE) < 270 then '210 to 270 days in past'\n",
      "WHEN DATEDIFF(day, receipts.updated_at, CURRENT_DATE) < 300 then '240 to 300 days in past'\n",
      "WHEN DATEDIFF(day, receipts.updated_at, CURRENT_DATE) < 330 then '270 to 330 days in past'\n",
      "WHEN DATEDIFF(day, receipts.updated_at, CURRENT_DATE) < 360 then '300 to 360 days in past'\n",
      "WHEN DATEDIFF(day, receipts.updated_at, CURRENT_DATE) < 390 then '330 to 390 days in past'\n"
     ]
    }
   ],
   "source": [
    "# Not used\n",
    "for i in range(25):\n",
    "    i = i+1\n",
    "    print(\"WHEN DATEDIFF(day, receipts.updated_at, CURRENT_DATE) < {0} then '{1} to {0} days in past'\".format(i*30, (i-2)*30))\n",
    "\n"
   ]
  },
  {
   "cell_type": "code",
   "execution_count": 13,
   "metadata": {
    "collapsed": true
   },
   "outputs": [],
   "source": [
    "from ds_util.redshift import run_redshift "
   ]
  },
  {
   "cell_type": "code",
   "execution_count": 14,
   "metadata": {
    "collapsed": true
   },
   "outputs": [],
   "source": [
    "sql = \"\"\"\n",
    "SELECT \n",
    "    *\n",
    "FROM \n",
    "    receipt_items\n",
    "    \n",
    "LIMIT\n",
    "    100\n",
    "\"\"\"\n",
    "\n",
    "some_table = run_redshift(sql, return_data=True)"
   ]
  },
  {
   "cell_type": "code",
   "execution_count": 15,
   "metadata": {
    "collapsed": false
   },
   "outputs": [
    {
     "data": {
      "text/html": [
       "<div>\n",
       "<table border=\"1\" class=\"dataframe\">\n",
       "  <thead>\n",
       "    <tr style=\"text-align: right;\">\n",
       "      <th></th>\n",
       "      <th>id</th>\n",
       "      <th>product_text</th>\n",
       "      <th>product_number</th>\n",
       "      <th>price</th>\n",
       "      <th>discount</th>\n",
       "      <th>quantity</th>\n",
       "      <th>validation_type</th>\n",
       "      <th>receipt_id</th>\n",
       "      <th>retailer_product_id</th>\n",
       "      <th>created_at</th>\n",
       "      <th>updated_at</th>\n",
       "      <th>raw_product_number</th>\n",
       "      <th>matched_with_offer_at</th>\n",
       "      <th>matched_customer_offer_id</th>\n",
       "      <th>ext_price</th>\n",
       "      <th>status</th>\n",
       "    </tr>\n",
       "  </thead>\n",
       "  <tbody>\n",
       "    <tr>\n",
       "      <th>0</th>\n",
       "      <td>4027</td>\n",
       "      <td>GREEN GIANT</td>\n",
       "      <td>211140341</td>\n",
       "      <td>4.98</td>\n",
       "      <td>None</td>\n",
       "      <td>None</td>\n",
       "      <td>ocr-old-exact</td>\n",
       "      <td>780</td>\n",
       "      <td>11346623.0</td>\n",
       "      <td>2012-09-22 01:44:01</td>\n",
       "      <td>2015-12-24 06:00:06</td>\n",
       "      <td></td>\n",
       "      <td>None</td>\n",
       "      <td>None</td>\n",
       "      <td>None</td>\n",
       "      <td></td>\n",
       "    </tr>\n",
       "    <tr>\n",
       "      <th>1</th>\n",
       "      <td>4026</td>\n",
       "      <td>GARLIC</td>\n",
       "      <td>211054608</td>\n",
       "      <td>0.37</td>\n",
       "      <td>None</td>\n",
       "      <td>None</td>\n",
       "      <td>ocr-old-exact</td>\n",
       "      <td>780</td>\n",
       "      <td>5747415.0</td>\n",
       "      <td>2012-09-22 01:44:01</td>\n",
       "      <td>2015-06-03 05:00:03</td>\n",
       "      <td>None</td>\n",
       "      <td>None</td>\n",
       "      <td>None</td>\n",
       "      <td>None</td>\n",
       "      <td>None</td>\n",
       "    </tr>\n",
       "    <tr>\n",
       "      <th>2</th>\n",
       "      <td>4028</td>\n",
       "      <td>GREEN GIANT</td>\n",
       "      <td>211150001</td>\n",
       "      <td>0.99</td>\n",
       "      <td>None</td>\n",
       "      <td>None</td>\n",
       "      <td>ocr</td>\n",
       "      <td>780</td>\n",
       "      <td>NaN</td>\n",
       "      <td>2012-09-22 01:44:01</td>\n",
       "      <td>2012-09-22 01:44:01</td>\n",
       "      <td>None</td>\n",
       "      <td>None</td>\n",
       "      <td>None</td>\n",
       "      <td>None</td>\n",
       "      <td>None</td>\n",
       "    </tr>\n",
       "    <tr>\n",
       "      <th>3</th>\n",
       "      <td>4029</td>\n",
       "      <td>MP KETCHUP</td>\n",
       "      <td>212040003</td>\n",
       "      <td>2.44</td>\n",
       "      <td>None</td>\n",
       "      <td>None</td>\n",
       "      <td>ocr-old-exact</td>\n",
       "      <td>780</td>\n",
       "      <td>2797701.0</td>\n",
       "      <td>2012-09-22 01:44:01</td>\n",
       "      <td>2015-03-04 06:00:02</td>\n",
       "      <td>None</td>\n",
       "      <td>None</td>\n",
       "      <td>None</td>\n",
       "      <td>None</td>\n",
       "      <td>None</td>\n",
       "    </tr>\n",
       "    <tr>\n",
       "      <th>4</th>\n",
       "      <td>4030</td>\n",
       "      <td>A1 EN</td>\n",
       "      <td>212040082</td>\n",
       "      <td>3.19</td>\n",
       "      <td>None</td>\n",
       "      <td>None</td>\n",
       "      <td>ocr</td>\n",
       "      <td>780</td>\n",
       "      <td>NaN</td>\n",
       "      <td>2012-09-22 01:44:01</td>\n",
       "      <td>2012-09-22 01:44:01</td>\n",
       "      <td>None</td>\n",
       "      <td>None</td>\n",
       "      <td>None</td>\n",
       "      <td>None</td>\n",
       "      <td>None</td>\n",
       "    </tr>\n",
       "  </tbody>\n",
       "</table>\n",
       "</div>"
      ],
      "text/plain": [
       "     id product_text product_number  price discount quantity validation_type  \\\n",
       "0  4027  GREEN GIANT      211140341   4.98     None     None   ocr-old-exact   \n",
       "1  4026       GARLIC      211054608   0.37     None     None   ocr-old-exact   \n",
       "2  4028  GREEN GIANT      211150001   0.99     None     None             ocr   \n",
       "3  4029   MP KETCHUP      212040003   2.44     None     None   ocr-old-exact   \n",
       "4  4030        A1 EN      212040082   3.19     None     None             ocr   \n",
       "\n",
       "   receipt_id  retailer_product_id          created_at          updated_at  \\\n",
       "0         780           11346623.0 2012-09-22 01:44:01 2015-12-24 06:00:06   \n",
       "1         780            5747415.0 2012-09-22 01:44:01 2015-06-03 05:00:03   \n",
       "2         780                  NaN 2012-09-22 01:44:01 2012-09-22 01:44:01   \n",
       "3         780            2797701.0 2012-09-22 01:44:01 2015-03-04 06:00:02   \n",
       "4         780                  NaN 2012-09-22 01:44:01 2012-09-22 01:44:01   \n",
       "\n",
       "  raw_product_number matched_with_offer_at matched_customer_offer_id  \\\n",
       "0                                     None                      None   \n",
       "1               None                  None                      None   \n",
       "2               None                  None                      None   \n",
       "3               None                  None                      None   \n",
       "4               None                  None                      None   \n",
       "\n",
       "  ext_price status  \n",
       "0      None         \n",
       "1      None   None  \n",
       "2      None   None  \n",
       "3      None   None  \n",
       "4      None   None  "
      ]
     },
     "execution_count": 15,
     "metadata": {},
     "output_type": "execute_result"
    }
   ],
   "source": [
    "some_table.head()"
   ]
  },
  {
   "cell_type": "code",
   "execution_count": null,
   "metadata": {
    "collapsed": true
   },
   "outputs": [],
   "source": []
  }
 ],
 "metadata": {
  "anaconda-cloud": {},
  "kernelspec": {
   "display_name": "Python [default]",
   "language": "python",
   "name": "python2"
  },
  "language_info": {
   "codemirror_mode": {
    "name": "ipython",
    "version": 2
   },
   "file_extension": ".py",
   "mimetype": "text/x-python",
   "name": "python",
   "nbconvert_exporter": "python",
   "pygments_lexer": "ipython2",
   "version": "2.7.12"
  }
 },
 "nbformat": 4,
 "nbformat_minor": 1
}
