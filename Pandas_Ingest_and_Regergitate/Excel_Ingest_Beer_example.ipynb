{
 "cells": [
  {
   "cell_type": "code",
   "execution_count": 1,
   "metadata": {
    "collapsed": true
   },
   "outputs": [],
   "source": [
    "import pandas as pd"
   ]
  },
  {
   "cell_type": "code",
   "execution_count": 11,
   "metadata": {
    "collapsed": true
   },
   "outputs": [],
   "source": [
    "df = pd.read_excel('beer_data_2013.xlsx')"
   ]
  },
  {
   "cell_type": "code",
   "execution_count": 12,
   "metadata": {
    "collapsed": false,
    "scrolled": true
   },
   "outputs": [],
   "source": [
    "df.dropna(axis=0, how='all', inplace=True)"
   ]
  },
  {
   "cell_type": "code",
   "execution_count": 13,
   "metadata": {
    "collapsed": false
   },
   "outputs": [],
   "source": [
    "df = df.dropna(axis=0, how='all')"
   ]
  },
  {
   "cell_type": "code",
   "execution_count": 15,
   "metadata": {
    "collapsed": false
   },
   "outputs": [
    {
     "name": "stderr",
     "output_type": "stream",
     "text": [
      "/Users/MikeLewis/anaconda2/lib/python2.7/site-packages/ipykernel/__main__.py:1: FutureWarning: sort(columns=....) is deprecated, use sort_values(by=.....)\n",
      "  if __name__ == '__main__':\n"
     ]
    }
   ],
   "source": [
    "df = df.sort(['Bro Score', 'Score'], ascending=False)"
   ]
  },
  {
   "cell_type": "code",
   "execution_count": 16,
   "metadata": {
    "collapsed": false
   },
   "outputs": [
    {
     "data": {
      "text/html": [
       "<div>\n",
       "<table border=\"1\" class=\"dataframe\">\n",
       "  <thead>\n",
       "    <tr style=\"text-align: right;\">\n",
       "      <th></th>\n",
       "      <th>Beer</th>\n",
       "      <th>Brewery</th>\n",
       "      <th>Location</th>\n",
       "      <th>Table</th>\n",
       "      <th>Score</th>\n",
       "      <th>rAvg</th>\n",
       "      <th>Ratings</th>\n",
       "      <th>Bro Score</th>\n",
       "      <th>Style</th>\n",
       "      <th>ABV</th>\n",
       "      <th>URL</th>\n",
       "    </tr>\n",
       "  </thead>\n",
       "  <tbody>\n",
       "    <tr>\n",
       "      <th>32</th>\n",
       "      <td>Sculpin IPA</td>\n",
       "      <td>Ballast Point Brewing Company</td>\n",
       "      <td>San Diego, CA</td>\n",
       "      <td>20.0</td>\n",
       "      <td>98.0</td>\n",
       "      <td>4.43</td>\n",
       "      <td>4459</td>\n",
       "      <td>100.0</td>\n",
       "      <td>American IPA</td>\n",
       "      <td>0.07</td>\n",
       "      <td>http://beeradvocate.com/beer/profile/199/29619</td>\n",
       "    </tr>\n",
       "    <tr>\n",
       "      <th>33</th>\n",
       "      <td>Victory At Sea Coffee Vanilla Imperial Porter</td>\n",
       "      <td>Ballast Point Brewing Company</td>\n",
       "      <td>San Diego, CA</td>\n",
       "      <td>20.0</td>\n",
       "      <td>98.0</td>\n",
       "      <td>4.40</td>\n",
       "      <td>1909</td>\n",
       "      <td>100.0</td>\n",
       "      <td>American Porter</td>\n",
       "      <td>0.1</td>\n",
       "      <td>http://beeradvocate.com/beer/profile/199/48505</td>\n",
       "    </tr>\n",
       "    <tr>\n",
       "      <th>579</th>\n",
       "      <td>Julius</td>\n",
       "      <td>Tree House Brewing Company</td>\n",
       "      <td>Brimfield, MA</td>\n",
       "      <td>52.0</td>\n",
       "      <td>97.0</td>\n",
       "      <td>4.47</td>\n",
       "      <td>57</td>\n",
       "      <td>100.0</td>\n",
       "      <td>American IPA</td>\n",
       "      <td>0.065</td>\n",
       "      <td>http://beeradvocate.com/beer/profile/28743/86237</td>\n",
       "    </tr>\n",
       "    <tr>\n",
       "      <th>89</th>\n",
       "      <td>Saison-Brett</td>\n",
       "      <td>Boulevard Brewing Co.</td>\n",
       "      <td>Kansas City, MO</td>\n",
       "      <td>89.0</td>\n",
       "      <td>96.0</td>\n",
       "      <td>4.34</td>\n",
       "      <td>1214</td>\n",
       "      <td>100.0</td>\n",
       "      <td>Saison / Farmhouse Ale</td>\n",
       "      <td>0.085</td>\n",
       "      <td>http://beeradvocate.com/beer/profile/423/36333</td>\n",
       "    </tr>\n",
       "    <tr>\n",
       "      <th>46</th>\n",
       "      <td>Hop Rod Rye</td>\n",
       "      <td>Bear Republic Brewing Co.</td>\n",
       "      <td>Healdsburg, CA</td>\n",
       "      <td>72.0</td>\n",
       "      <td>95.0</td>\n",
       "      <td>4.27</td>\n",
       "      <td>3226</td>\n",
       "      <td>100.0</td>\n",
       "      <td>American IPA</td>\n",
       "      <td>0.08</td>\n",
       "      <td>http://beeradvocate.com/beer/profile/610/3158</td>\n",
       "    </tr>\n",
       "  </tbody>\n",
       "</table>\n",
       "</div>"
      ],
      "text/plain": [
       "                                              Beer  \\\n",
       "32                                     Sculpin IPA   \n",
       "33   Victory At Sea Coffee Vanilla Imperial Porter   \n",
       "579                                         Julius   \n",
       "89                                    Saison-Brett   \n",
       "46                                     Hop Rod Rye   \n",
       "\n",
       "                           Brewery         Location  Table  Score  rAvg  \\\n",
       "32   Ballast Point Brewing Company    San Diego, CA   20.0   98.0  4.43   \n",
       "33   Ballast Point Brewing Company    San Diego, CA   20.0   98.0  4.40   \n",
       "579     Tree House Brewing Company    Brimfield, MA   52.0   97.0  4.47   \n",
       "89           Boulevard Brewing Co.  Kansas City, MO   89.0   96.0  4.34   \n",
       "46       Bear Republic Brewing Co.   Healdsburg, CA   72.0   95.0  4.27   \n",
       "\n",
       "     Ratings  Bro Score                   Style    ABV  \\\n",
       "32      4459      100.0            American IPA   0.07   \n",
       "33      1909      100.0         American Porter    0.1   \n",
       "579       57      100.0            American IPA  0.065   \n",
       "89      1214      100.0  Saison / Farmhouse Ale  0.085   \n",
       "46      3226      100.0            American IPA   0.08   \n",
       "\n",
       "                                                  URL  \n",
       "32     http://beeradvocate.com/beer/profile/199/29619  \n",
       "33     http://beeradvocate.com/beer/profile/199/48505  \n",
       "579  http://beeradvocate.com/beer/profile/28743/86237  \n",
       "89     http://beeradvocate.com/beer/profile/423/36333  \n",
       "46      http://beeradvocate.com/beer/profile/610/3158  "
      ]
     },
     "execution_count": 16,
     "metadata": {},
     "output_type": "execute_result"
    }
   ],
   "source": [
    "df.head()"
   ]
  },
  {
   "cell_type": "code",
   "execution_count": 18,
   "metadata": {
    "collapsed": true
   },
   "outputs": [],
   "source": [
    "import numpy as np"
   ]
  },
  {
   "cell_type": "code",
   "execution_count": 19,
   "metadata": {
    "collapsed": false
   },
   "outputs": [],
   "source": [
    "df['Score'] = df['Score'].replace(0, np.NaN)\n"
   ]
  },
  {
   "cell_type": "code",
   "execution_count": 20,
   "metadata": {
    "collapsed": true
   },
   "outputs": [],
   "source": [
    "df = df.fillna(df.mean())"
   ]
  },
  {
   "cell_type": "code",
   "execution_count": 21,
   "metadata": {
    "collapsed": false
   },
   "outputs": [
    {
     "data": {
      "text/html": [
       "<div>\n",
       "<table border=\"1\" class=\"dataframe\">\n",
       "  <thead>\n",
       "    <tr style=\"text-align: right;\">\n",
       "      <th></th>\n",
       "      <th>Beer</th>\n",
       "      <th>Brewery</th>\n",
       "      <th>Location</th>\n",
       "      <th>Table</th>\n",
       "      <th>Score</th>\n",
       "      <th>rAvg</th>\n",
       "      <th>Ratings</th>\n",
       "      <th>Bro Score</th>\n",
       "      <th>Style</th>\n",
       "      <th>ABV</th>\n",
       "      <th>URL</th>\n",
       "    </tr>\n",
       "  </thead>\n",
       "  <tbody>\n",
       "    <tr>\n",
       "      <th>32</th>\n",
       "      <td>Sculpin IPA</td>\n",
       "      <td>Ballast Point Brewing Company</td>\n",
       "      <td>San Diego, CA</td>\n",
       "      <td>20.0</td>\n",
       "      <td>98.0</td>\n",
       "      <td>4.43</td>\n",
       "      <td>4459</td>\n",
       "      <td>100.0</td>\n",
       "      <td>American IPA</td>\n",
       "      <td>0.07</td>\n",
       "      <td>http://beeradvocate.com/beer/profile/199/29619</td>\n",
       "    </tr>\n",
       "    <tr>\n",
       "      <th>33</th>\n",
       "      <td>Victory At Sea Coffee Vanilla Imperial Porter</td>\n",
       "      <td>Ballast Point Brewing Company</td>\n",
       "      <td>San Diego, CA</td>\n",
       "      <td>20.0</td>\n",
       "      <td>98.0</td>\n",
       "      <td>4.40</td>\n",
       "      <td>1909</td>\n",
       "      <td>100.0</td>\n",
       "      <td>American Porter</td>\n",
       "      <td>0.1</td>\n",
       "      <td>http://beeradvocate.com/beer/profile/199/48505</td>\n",
       "    </tr>\n",
       "    <tr>\n",
       "      <th>579</th>\n",
       "      <td>Julius</td>\n",
       "      <td>Tree House Brewing Company</td>\n",
       "      <td>Brimfield, MA</td>\n",
       "      <td>52.0</td>\n",
       "      <td>97.0</td>\n",
       "      <td>4.47</td>\n",
       "      <td>57</td>\n",
       "      <td>100.0</td>\n",
       "      <td>American IPA</td>\n",
       "      <td>0.065</td>\n",
       "      <td>http://beeradvocate.com/beer/profile/28743/86237</td>\n",
       "    </tr>\n",
       "    <tr>\n",
       "      <th>89</th>\n",
       "      <td>Saison-Brett</td>\n",
       "      <td>Boulevard Brewing Co.</td>\n",
       "      <td>Kansas City, MO</td>\n",
       "      <td>89.0</td>\n",
       "      <td>96.0</td>\n",
       "      <td>4.34</td>\n",
       "      <td>1214</td>\n",
       "      <td>100.0</td>\n",
       "      <td>Saison / Farmhouse Ale</td>\n",
       "      <td>0.085</td>\n",
       "      <td>http://beeradvocate.com/beer/profile/423/36333</td>\n",
       "    </tr>\n",
       "    <tr>\n",
       "      <th>46</th>\n",
       "      <td>Hop Rod Rye</td>\n",
       "      <td>Bear Republic Brewing Co.</td>\n",
       "      <td>Healdsburg, CA</td>\n",
       "      <td>72.0</td>\n",
       "      <td>95.0</td>\n",
       "      <td>4.27</td>\n",
       "      <td>3226</td>\n",
       "      <td>100.0</td>\n",
       "      <td>American IPA</td>\n",
       "      <td>0.08</td>\n",
       "      <td>http://beeradvocate.com/beer/profile/610/3158</td>\n",
       "    </tr>\n",
       "  </tbody>\n",
       "</table>\n",
       "</div>"
      ],
      "text/plain": [
       "                                              Beer  \\\n",
       "32                                     Sculpin IPA   \n",
       "33   Victory At Sea Coffee Vanilla Imperial Porter   \n",
       "579                                         Julius   \n",
       "89                                    Saison-Brett   \n",
       "46                                     Hop Rod Rye   \n",
       "\n",
       "                           Brewery         Location  Table  Score  rAvg  \\\n",
       "32   Ballast Point Brewing Company    San Diego, CA   20.0   98.0  4.43   \n",
       "33   Ballast Point Brewing Company    San Diego, CA   20.0   98.0  4.40   \n",
       "579     Tree House Brewing Company    Brimfield, MA   52.0   97.0  4.47   \n",
       "89           Boulevard Brewing Co.  Kansas City, MO   89.0   96.0  4.34   \n",
       "46       Bear Republic Brewing Co.   Healdsburg, CA   72.0   95.0  4.27   \n",
       "\n",
       "     Ratings  Bro Score                   Style    ABV  \\\n",
       "32      4459      100.0            American IPA   0.07   \n",
       "33      1909      100.0         American Porter    0.1   \n",
       "579       57      100.0            American IPA  0.065   \n",
       "89      1214      100.0  Saison / Farmhouse Ale  0.085   \n",
       "46      3226      100.0            American IPA   0.08   \n",
       "\n",
       "                                                  URL  \n",
       "32     http://beeradvocate.com/beer/profile/199/29619  \n",
       "33     http://beeradvocate.com/beer/profile/199/48505  \n",
       "579  http://beeradvocate.com/beer/profile/28743/86237  \n",
       "89     http://beeradvocate.com/beer/profile/423/36333  \n",
       "46      http://beeradvocate.com/beer/profile/610/3158  "
      ]
     },
     "execution_count": 21,
     "metadata": {},
     "output_type": "execute_result"
    }
   ],
   "source": [
    "df.head()\n"
   ]
  },
  {
   "cell_type": "code",
   "execution_count": null,
   "metadata": {
    "collapsed": true
   },
   "outputs": [],
   "source": []
  }
 ],
 "metadata": {
  "anaconda-cloud": {},
  "kernelspec": {
   "display_name": "Python [default]",
   "language": "python",
   "name": "python2"
  },
  "language_info": {
   "codemirror_mode": {
    "name": "ipython",
    "version": 2
   },
   "file_extension": ".py",
   "mimetype": "text/x-python",
   "name": "python",
   "nbconvert_exporter": "python",
   "pygments_lexer": "ipython2",
   "version": "2.7.12"
  }
 },
 "nbformat": 4,
 "nbformat_minor": 1
}
